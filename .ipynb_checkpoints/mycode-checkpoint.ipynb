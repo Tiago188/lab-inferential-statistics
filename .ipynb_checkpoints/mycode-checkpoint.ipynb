{
 "cells": [
  {
   "cell_type": "code",
   "execution_count": 45,
   "id": "c9572eca-6559-4dbe-92af-e19330bad94a",
   "metadata": {},
   "outputs": [],
   "source": [
    "import math \n",
    "import pandas as pd # manipulate dataframes\n",
    "import numpy as np # numerical python\n",
    "import matplotlib.pyplot as plt # viz\n",
    "\n",
    "# New libraries\n",
    "import scipy.stats as st # stats\n",
    "import statsmodels.api as sm\n",
    "import statsmodels.formula.api as smf\n",
    "# pingouin library python - search"
   ]
  },
  {
   "cell_type": "code",
   "execution_count": 53,
   "id": "a2ca2c56-75bf-4410-9457-86413ce28449",
   "metadata": {},
   "outputs": [],
   "source": [
    "### Lab | Inferential statistics\n",
    "\n",
    "\n",
    "### Instructions\n",
    "\n",
    "###   1. It is assumed that the mean systolic blood pressure is `μ = 120 mm Hg`. In the Honolulu Heart Study, a sample of `n = 100` \n",
    "#        people had an average systolic blood pressure of 130.1 mm Hg with a standard deviation of 21.21 mm Hg. Is the group significantly \n",
    "#        different (with respect to systolic blood pressure!) from the regular population?"
   ]
  },
  {
   "cell_type": "code",
   "execution_count": 55,
   "id": "b53a38b8-0eb0-47f3-a581-68f767e28fbc",
   "metadata": {},
   "outputs": [],
   "source": [
    "###   - Set up the hypothesis test."
   ]
  },
  {
   "cell_type": "code",
   "execution_count": 51,
   "id": "d1945093-2f06-43c9-b3f2-1dae5f60fd0d",
   "metadata": {},
   "outputs": [
    {
     "name": "stdout",
     "output_type": "stream",
     "text": [
      "Null Hypothesis (H₀): The mean systolic blood pressure is equal to 120 mm\n",
      "Alternate Hypothesis (H₁): The mean systolic blood pressure is not equal to 120 mm\n"
     ]
    }
   ],
   "source": [
    "# Hypotheses\n",
    "null_hypothesis = \"The mean systolic blood pressure is equal to 120 mm\"  # H₀\n",
    "alt_hypothesis = \"The mean systolic blood pressure is not equal to 120 mm\"  # H₁\n",
    "\n",
    "print(f\"Null Hypothesis (H₀): {null_hypothesis}\")\n",
    "print(f\"Alternate Hypothesis (H₁): {alt_hypothesis}\")"
   ]
  },
  {
   "cell_type": "code",
   "execution_count": 63,
   "id": "8a76aa5a-3af6-47c2-a6a6-af6ae57c2fd3",
   "metadata": {},
   "outputs": [],
   "source": [
    "### - Write down all the steps followed for setting up the test."
   ]
  },
  {
   "cell_type": "code",
   "execution_count": 71,
   "id": "8ed4aab8-2ec9-4160-a65d-f3ee61b39738",
   "metadata": {},
   "outputs": [
    {
     "name": "stdout",
     "output_type": "stream",
     "text": [
      "Null Hypothesis (H₀): The mean systolic blood pressure is equal to 120 mm\n",
      "Alternate Hypothesis (H₁): The mean systolic blood pressure is not equal to 120 mm\n"
     ]
    }
   ],
   "source": [
    "# step One - Define Hypotheses - allready done \n",
    "print(f\"Null Hypothesis (H₀): {null_hypothesis}\")\n",
    "print(f\"Alternate Hypothesis (H₁): {alt_hypothesis}\")"
   ]
  },
  {
   "cell_type": "code",
   "execution_count": 65,
   "id": "6151c820-6307-4340-bd69-3991c72d7425",
   "metadata": {},
   "outputs": [],
   "source": [
    "# step two - Significance Level\n",
    "alpha = 0.05"
   ]
  },
  {
   "cell_type": "code",
   "execution_count": 95,
   "id": "a602e4ee-e9d0-43be-a491-258b545a781c",
   "metadata": {},
   "outputs": [],
   "source": [
    "# Step 3: Collect Data\n",
    "sample_mean = 130.1\n",
    "pop_mean = 120 \n",
    "pop_std = 21.21\n",
    "n = 100"
   ]
  },
  {
   "cell_type": "code",
   "execution_count": 97,
   "id": "f4442838-35d9-4a61-9617-97e965d2bec6",
   "metadata": {},
   "outputs": [
    {
     "data": {
      "text/plain": [
       "4.761904761904759"
      ]
     },
     "execution_count": 97,
     "metadata": {},
     "output_type": "execute_result"
    }
   ],
   "source": [
    "# Step 4: Calculate Test Statistic\n",
    "t_stat = (sample_mean - pop_mean) / (pop_std / np.sqrt(n))\n",
    "t_stat"
   ]
  },
  {
   "cell_type": "code",
   "execution_count": 87,
   "id": "0f26eac7-f6e9-431e-819c-ab3123e7971f",
   "metadata": {},
   "outputs": [
    {
     "name": "stdout",
     "output_type": "stream",
     "text": [
      "P-Value: 0.9999990411\n"
     ]
    }
   ],
   "source": [
    "# Step 5: Determine p-Value \n",
    "p_value = st.norm.cdf(t_stat)  \n",
    "print(f\"P-Value: {p_value:.10f}\")"
   ]
  },
  {
   "cell_type": "code",
   "execution_count": 91,
   "id": "6b1081b5-3e53-4ba5-a063-b57243c8cbc2",
   "metadata": {},
   "outputs": [
    {
     "name": "stdout",
     "output_type": "stream",
     "text": [
      "Fail to Reject the Null Hypothesis: Not a significant result.\n"
     ]
    }
   ],
   "source": [
    "# Step 6: Decision-Making\n",
    "if p_value < alpha:\n",
    "    print(\"Reject the Null Hypothesis: Significant result.\")\n",
    "else:\n",
    "    print(\"Fail to Reject the Null Hypothesis: Not a significant result.\")"
   ]
  },
  {
   "cell_type": "code",
   "execution_count": null,
   "id": "962e0c80-d639-464b-a777-930c3bd8c37b",
   "metadata": {},
   "outputs": [],
   "source": [
    "#   - Calculate the test statistic by hand and also code it in Python. It should be 4.76190. We will take a look at how to make decisions \n",
    "#      based on this calculated value."
   ]
  },
  {
   "cell_type": "code",
   "execution_count": 99,
   "id": "20e279b4-dc7f-447c-9639-f1a174ead875",
   "metadata": {},
   "outputs": [
    {
     "data": {
      "text/plain": [
       "2.121"
      ]
     },
     "execution_count": 99,
     "metadata": {},
     "output_type": "execute_result"
    }
   ],
   "source": [
    "sem = std_dev / np.sqrt(n)\n",
    "sem"
   ]
  },
  {
   "cell_type": "code",
   "execution_count": 103,
   "id": "6382e485-0fbf-4d7e-be45-390cfb0737d0",
   "metadata": {},
   "outputs": [
    {
     "data": {
      "text/plain": [
       "4.761904761904759"
      ]
     },
     "execution_count": 103,
     "metadata": {},
     "output_type": "execute_result"
    }
   ],
   "source": [
    "t_stat = (sample_mean - population_mean) / sem\n",
    "t_stat"
   ]
  },
  {
   "cell_type": "code",
   "execution_count": null,
   "id": "2f81a8aa-1dbf-437b-bfbb-48f1b5252a3a",
   "metadata": {},
   "outputs": [],
   "source": [
    "# 2. If you finished the previous question, please go through the code for `principal_component_analysis_example` provided in the \n",
    "#     `files_for_lab` folder ."
   ]
  },
  {
   "cell_type": "code",
   "execution_count": null,
   "id": "a711726d-88a2-4bb2-92ba-7b9dacee0066",
   "metadata": {},
   "outputs": [],
   "source": []
  },
  {
   "cell_type": "code",
   "execution_count": null,
   "id": "96efff06-0715-4922-9c30-1d8edb31e461",
   "metadata": {},
   "outputs": [],
   "source": []
  },
  {
   "cell_type": "code",
   "execution_count": null,
   "id": "9bd977b1-6571-4175-a5dc-a079667c64c1",
   "metadata": {},
   "outputs": [],
   "source": []
  }
 ],
 "metadata": {
  "kernelspec": {
   "display_name": "Python 3 (ipykernel)",
   "language": "python",
   "name": "python3"
  },
  "language_info": {
   "codemirror_mode": {
    "name": "ipython",
    "version": 3
   },
   "file_extension": ".py",
   "mimetype": "text/x-python",
   "name": "python",
   "nbconvert_exporter": "python",
   "pygments_lexer": "ipython3",
   "version": "3.12.4"
  }
 },
 "nbformat": 4,
 "nbformat_minor": 5
}
